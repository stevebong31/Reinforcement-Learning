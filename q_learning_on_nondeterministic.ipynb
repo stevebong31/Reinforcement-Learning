{
 "cells": [
  {
   "cell_type": "code",
   "execution_count": 15,
   "metadata": {},
   "outputs": [],
   "source": [
    "import gym\n",
    "import numpy as np\n",
    "import matplotlib.pyplot as plt\n",
    "from gym.envs.registration import register\n",
    "import random as pr"
   ]
  },
  {
   "cell_type": "code",
   "execution_count": 18,
   "metadata": {},
   "outputs": [],
   "source": [
    "env = gym.make('FrozenLake-v0')\n",
    "\n",
    "Q = np.zeros([env.observation_space.n,env.action_space.n]) #Initialize table with all zeros\n",
    "\n",
    "dis = 0.99\n",
    "learning_rate = .85\n",
    "num_episodes = 100000 #set learning parameters\n",
    "\n",
    "rList=[]\n",
    "for i in range(num_episodes):\n",
    "    state=env.reset() #reset environment\n",
    "    rAll = 0\n",
    "    done = False\n",
    "    \n",
    "    while not done:\n",
    "        action = np.argmax(Q[state,:] + np.random.randn(1,env.action_space.n)/(i+1))\n",
    "        new_state, reward, done,_ = env.step(action) #get new stse and reward from enviroment\n",
    "        Q[state,action] = (1-learning_rate)*Q[state,action] + learning_rate*(reward+dis * np.max(Q[new_state,:]))\n",
    "        rAll +=reward\n",
    "        state = new_state\n",
    "    rList.append(rAll)"
   ]
  },
  {
   "cell_type": "code",
   "execution_count": 19,
   "metadata": {},
   "outputs": [
    {
     "name": "stdout",
     "output_type": "stream",
     "text": [
      "Success rate: 0.55723\n",
      "Rinal Q-Table Values\n",
      "Left Down Right Up\n",
      "[[1.16693179e-02 1.39302411e-03 5.01478827e-01 1.28034976e-02]\n",
      " [1.93443909e-03 1.70055824e-03 3.09963956e-04 3.04801519e-01]\n",
      " [2.99871941e-03 2.51371478e-03 2.01188945e-03 2.33223009e-01]\n",
      " [1.68308798e-03 0.00000000e+00 0.00000000e+00 1.88000376e-01]\n",
      " [6.24745494e-01 0.00000000e+00 9.49093377e-04 2.00737184e-03]\n",
      " [0.00000000e+00 0.00000000e+00 0.00000000e+00 0.00000000e+00]\n",
      " [1.63198547e-01 6.18445070e-06 5.00760211e-07 1.40160098e-06]\n",
      " [0.00000000e+00 0.00000000e+00 0.00000000e+00 0.00000000e+00]\n",
      " [0.00000000e+00 0.00000000e+00 1.19654399e-03 7.89618938e-01]\n",
      " [0.00000000e+00 8.29454263e-01 2.99800392e-04 0.00000000e+00]\n",
      " [2.30030036e-01 2.67173730e-05 0.00000000e+00 6.26122863e-05]\n",
      " [0.00000000e+00 0.00000000e+00 0.00000000e+00 0.00000000e+00]\n",
      " [0.00000000e+00 0.00000000e+00 0.00000000e+00 0.00000000e+00]\n",
      " [0.00000000e+00 0.00000000e+00 9.66612827e-01 0.00000000e+00]\n",
      " [0.00000000e+00 9.99883590e-01 0.00000000e+00 0.00000000e+00]\n",
      " [0.00000000e+00 0.00000000e+00 0.00000000e+00 0.00000000e+00]]\n"
     ]
    },
    {
     "data": {
      "image/png": "[encoded data removed]",
      "text/plain": [
       "<Figure size 432x288 with 1 Axes>"
      ]
     },
     "metadata": {
      "needs_background": "light"
     },
     "output_type": "display_data"
    }
   ],
   "source": [
    "print(\"Success rate: \" +str(sum(rList)/num_episodes))\n",
    "print(\"Rinal Q-Table Values\")\n",
    "print(\"Left Down Right Up\")\n",
    "print(Q)\n",
    "plt.bar(range(len(rList)),rList,color='blue')\n",
    "plt.show()"
   ]
  },
  {
   "cell_type": "code",
   "execution_count": null,
   "metadata": {},
   "outputs": [],
   "source": []
  }
 ],
 "metadata": {
  "kernelspec": {
   "display_name": "Python 3",
   "language": "python",
   "name": "python3"
  },
  "language_info": {
   "codemirror_mode": {
    "name": "ipython",
    "version": 3
   },
   "file_extension": ".py",
   "mimetype": "text/x-python",
   "name": "python",
   "nbconvert_exporter": "python",
   "pygments_lexer": "ipython3",
   "version": "3.7.0"
  }
 },
 "nbformat": 4,
 "nbformat_minor": 2
}
