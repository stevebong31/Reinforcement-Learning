{
 "cells": [
  {
   "cell_type": "code",
   "execution_count": 4,
   "metadata": {},
   "outputs": [],
   "source": [
    "import gym\n",
    "import numpy as np\n",
    "import matplotlib.pyplot as plt\n",
    "from gym.envs.registration import register\n",
    "import random as pr"
   ]
  },
  {
   "cell_type": "code",
   "execution_count": 29,
   "metadata": {},
   "outputs": [],
   "source": [
    "env = gym.make('FrozenLake-v0')\n",
    "\n",
    "Q = np.zeros([env.observation_space.n,env.action_space.n]) #Initialize table with all zeros\n",
    "\n",
    "dis = 0.99\n",
    "learning_rate = .85\n",
    "num_episodes = 3000 #set learning parameters\n",
    "\n",
    "rList=[]\n",
    "for i in range(num_episodes):\n",
    "    state=env.reset() #reset environment\n",
    "    rAll = 0\n",
    "    done = False\n",
    "    \n",
    "    while not done:\n",
    "        action = np.argmax(Q[state,:] + np.random.randn(1,env.action_space.n)/(i+1))\n",
    "        new_state, reward, done,_ = env.step(action) #get new stse and reward from enviroment\n",
    "        Q[state,action] = (1-learning_rate)*Q[state,action] + learning_rate*(reward+dis * np.max(Q[new_state,:]))\n",
    "        rAll +=reward\n",
    "        state = new_state\n",
    "    rList.append(rAll)"
   ]
  },
  {
   "cell_type": "code",
   "execution_count": 30,
   "metadata": {},
   "outputs": [
    {
     "name": "stdout",
     "output_type": "stream",
     "text": [
      "Success rate: 0.49933333333333335\n",
      "Rinal Q-Table Values\n",
      "Left Down Right Up\n",
      "[[1.68894305e-02 5.10339064e-01 1.18655467e-02 1.30222622e-02]\n",
      " [2.66642639e-05 1.02206912e-03 1.18345658e-03 4.99175450e-01]\n",
      " [3.34779874e-03 4.69962841e-03 1.55571799e-03 3.87069276e-01]\n",
      " [1.32986187e-03 0.00000000e+00 9.93127095e-04 2.76441510e-01]\n",
      " [7.00599849e-01 4.73299564e-06 1.19361917e-03 3.67093306e-03]\n",
      " [0.00000000e+00 0.00000000e+00 0.00000000e+00 0.00000000e+00]\n",
      " [2.76743716e-01 8.06864892e-05 2.91668773e-05 8.27182478e-05]\n",
      " [0.00000000e+00 0.00000000e+00 0.00000000e+00 0.00000000e+00]\n",
      " [0.00000000e+00 1.36074200e-03 1.35022006e-03 5.08224970e-01]\n",
      " [1.17384973e-03 6.10944997e-01 0.00000000e+00 1.41186120e-03]\n",
      " [7.50208457e-01 6.38722841e-04 6.30186318e-05 6.07729684e-04]\n",
      " [0.00000000e+00 0.00000000e+00 0.00000000e+00 0.00000000e+00]\n",
      " [0.00000000e+00 0.00000000e+00 0.00000000e+00 0.00000000e+00]\n",
      " [0.00000000e+00 0.00000000e+00 2.38556222e-01 7.83328228e-03]\n",
      " [0.00000000e+00 9.65020847e-01 0.00000000e+00 2.37815742e-02]\n",
      " [0.00000000e+00 0.00000000e+00 0.00000000e+00 0.00000000e+00]]\n"
     ]
    },
    {
     "data": {
      "image/png": "[encoded data removed]",
      "text/plain": [
       "<Figure size 432x288 with 1 Axes>"
      ]
     },
     "metadata": {},
     "output_type": "display_data"
    }
   ],
   "source": [
    "print(\"Success rate: \" +str(sum(rList)/num_episodes))\n",
    "print(\"Rinal Q-Table Values\")\n",
    "print(\"Left Down Right Up\")\n",
    "print(Q)\n",
    "plt.bar(range(len(rList)),rList,color='blue')\n",
    "plt.show()"
   ]
  },
  {
   "cell_type": "code",
   "execution_count": null,
   "metadata": {},
   "outputs": [],
   "source": []
  }
 ],
 "metadata": {
  "kernelspec": {
   "display_name": "Python 3",
   "language": "python",
   "name": "python3"
  },
  "language_info": {
   "codemirror_mode": {
    "name": "ipython",
    "version": 3
   },
   "file_extension": ".py",
   "mimetype": "text/x-python",
   "name": "python",
   "nbconvert_exporter": "python",
   "pygments_lexer": "ipython3",
   "version": "3.6.5"
  }
 },
 "nbformat": 4,
 "nbformat_minor": 2
}
