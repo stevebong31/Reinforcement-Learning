{
 "cells": [
  {
   "cell_type": "code",
   "execution_count": 1,
   "metadata": {},
   "outputs": [],
   "source": [
    "import gym\n",
    "import numpy as np\n",
    "import tensorflow as tf\n",
    "import matplotlib.pyplot as plt"
   ]
  },
  {
   "cell_type": "code",
   "execution_count": 4,
   "metadata": {},
   "outputs": [],
   "source": [
    "env = gym.make('FrozenLake-v0')"
   ]
  },
  {
   "cell_type": "code",
   "execution_count": 16,
   "metadata": {},
   "outputs": [],
   "source": [
    "input_size = env.observation_space.n\n",
    "output_size = env.action_space.n\n",
    "learning_rate = 0.1\n",
    "\n",
    "X = tf.placeholder(shape=[1,input_size],dtype=tf.float32)\n",
    "W = tf.Variable(tf.random_uniform([input_size,output_size],0,0.01))"
   ]
  },
  {
   "cell_type": "code",
   "execution_count": 17,
   "metadata": {},
   "outputs": [],
   "source": [
    "Qpred = tf.matmul(X,W)\n",
    "Y = tf.placeholder(shape=[1,output_size],dtype=tf.float32)\n",
    "\n",
    "loss = tf.reduce_sum(tf.square(Y-Qpred))\n",
    "\n",
    "train = tf.train.GradientDescentOptimizer(learning_rate=learning_rate).minimize(loss)\n",
    "\n",
    "dis = .99\n",
    "num_episodes = 2000\n",
    "\n",
    "rList = []\n",
    "\n",
    "def one_hot(x):\n",
    "    return np.identity(16)[x:x+1]\n",
    "\n",
    "init = tf.global_variables_initializer()\n",
    "\n",
    "with tf.Session() as sess:\n",
    "    sess.run(init)\n",
    "    for i in range(num_episodes):\n",
    "        \n",
    "        s = env.reset()\n",
    "        e = 1./((i/50)+10)\n",
    "        rAll = 0\n",
    "        done = False\n",
    "        local_loss = []\n",
    "        \n",
    "        while not done:\n",
    "            \n",
    "            Qs = sess.run(Qpred,feed_dict = {X: one_hot(s)})\n",
    "            if np.random.rand(1) < e:\n",
    "                a = env.action_space.sample()\n",
    "            else:\n",
    "                a = np.argmax(Qs)\n",
    "                    \n",
    "                s1, reward, done, _ = env.step(a)\n",
    "            if done:\n",
    "                Qs[0,a] = reward\n",
    "                        \n",
    "            else :\n",
    "                Qs1 = sess.run(Qpred, feed_dict={X: one_hot(s1)})\n",
    "                Qs[0,a] =reward + dis * np.max(Qs1)\n",
    "                    \n",
    "            sess.run(train, feed_dict = {X: one_hot(s), Y:Qs})\n",
    "                \n",
    "            rAll +=reward\n",
    "            s = s1\n",
    "            rList.append(rAll)\n",
    "                "
   ]
  },
  {
   "cell_type": "code",
   "execution_count": 18,
   "metadata": {},
   "outputs": [
    {
     "name": "stdout",
     "output_type": "stream",
     "text": [
      "Percent of successful episodes:1.3445%\n"
     ]
    },
    {
     "data": {
      "image/png": "[encoded data removed]",
      "text/plain": [
       "<Figure size 432x288 with 1 Axes>"
      ]
     },
     "metadata": {
      "needs_background": "light"
     },
     "output_type": "display_data"
    }
   ],
   "source": [
    "print(\"Percent of successful episodes:\" + str(sum(rList)/num_episodes) + \"%\")\n",
    "plt.bar(range(len(rList)),rList,color='blue')\n",
    "plt.show()"
   ]
  },
  {
   "cell_type": "code",
   "execution_count": null,
   "metadata": {},
   "outputs": [],
   "source": []
  }
 ],
 "metadata": {
  "kernelspec": {
   "display_name": "Python 3",
   "language": "python",
   "name": "python3"
  },
  "language_info": {
   "codemirror_mode": {
    "name": "ipython",
    "version": 3
   },
   "file_extension": ".py",
   "mimetype": "text/x-python",
   "name": "python",
   "nbconvert_exporter": "python",
   "pygments_lexer": "ipython3",
   "version": "3.6.7"
  }
 },
 "nbformat": 4,
 "nbformat_minor": 2
}
