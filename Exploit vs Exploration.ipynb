{
 "cells": [
  {
   "cell_type": "code",
   "execution_count": 22,
   "metadata": {},
   "outputs": [
    {
     "name": "stdout",
     "output_type": "stream",
     "text": [
      "More\n"
     ]
    }
   ],
   "source": [
    "    # Exploit vs Exploration : decaying E-greedy\n",
    "for i in range(num_episodes):\n",
    "    e =1./((i/100)+1)\n",
    "    \n",
    "    while not done:\n",
    "        \n",
    "        if np.random.rand(1) < e:\n",
    "            action = env.acthon_space.sample()\n",
    "            else:\n",
    "                action = np.argmax(Q[state,:])"
   ]
  },
  {
   "cell_type": "code",
   "execution_count": null,
   "metadata": {},
   "outputs": [],
   "source": [
    "# Exploit vs Exploration : add random noise\n",
    "for i in range(num_episodes):\n",
    "    \n",
    "    while not done:\n",
    "        \n",
    "        action = np.argmax(Q[state,:] + np.random.randn(1,env.action_space.n)/(i+1)) # decay\n",
    "        "
   ]
  },
  {
   "cell_type": "code",
   "execution_count": null,
   "metadata": {},
   "outputs": [],
   "source": [
    "# Discount factor\n",
    "dis = .99\n",
    "\n",
    "Q[state,action] = reward + dis * np.max(Q[new_state,:])\n",
    "        "
   ]
  }
 ],
 "metadata": {
  "kernelspec": {
   "display_name": "Python 3",
   "language": "python",
   "name": "python3"
  },
  "language_info": {
   "codemirror_mode": {
    "name": "ipython",
    "version": 3
   },
   "file_extension": ".py",
   "mimetype": "text/x-python",
   "name": "python",
   "nbconvert_exporter": "python",
   "pygments_lexer": "ipython3",
   "version": "3.6.5"
  }
 },
 "nbformat": 4,
 "nbformat_minor": 2
}
