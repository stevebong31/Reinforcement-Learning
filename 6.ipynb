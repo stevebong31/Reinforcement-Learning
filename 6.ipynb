{
 "cells": [
  {
   "cell_type": "code",
   "execution_count": 1,
   "metadata": {},
   "outputs": [],
   "source": [
    "import gym\n",
    "import numpy as np\n",
    "import matplotlib.pyplot as plt\n",
    "from gym.envs.registration import register\n",
    "import random as pr"
   ]
  },
  {
   "cell_type": "code",
   "execution_count": 2,
   "metadata": {},
   "outputs": [
    {
     "name": "stderr",
     "output_type": "stream",
     "text": [
      "C:\\Users\\HW-steve\\Anaconda3\\lib\\site-packages\\gym\\envs\\registration.py:14: PkgResourcesDeprecationWarning: Parameters to load are deprecated.  Call .resolve and .require separately.\n",
      "  result = entry_point.load(False)\n"
     ]
    }
   ],
   "source": [
    "env = gym.make('FrozenLake-v0')\n",
    "\n",
    "Q = np.zeros([env.observation_space.n,env.action_space.n]) #Initialize table with all zeros\n",
    "\n",
    "dis = 0.99\n",
    "learning_rate = .85\n",
    "num_episodes = 2000 #set learning parameters\n",
    "\n",
    "rList=[]\n",
    "for i in range(num_episodes):\n",
    "    state=env.reset() #reset environment\n",
    "    rAll = 0\n",
    "    done = False\n",
    "    \n",
    "    while not done:\n",
    "        action = np.argmax(Q[state,:] + np.random.randn(1,env.action_space.n)/(i+1))\n",
    "        new_state, reward, done,_ = env.step(action) #get new stse and reward from enviroment\n",
    "        Q[state,action] = (1-learning_rate)*Q[state,action] + learning_rate*(reward+dis * np.max(Q[new_state,:]))\n",
    "        rAll +=reward\n",
    "        state = new_state\n",
    "    rList.append(rAll)"
   ]
  },
  {
   "cell_type": "code",
   "execution_count": 3,
   "metadata": {},
   "outputs": [
    {
     "name": "stdout",
     "output_type": "stream",
     "text": [
      "Success rate: 0.479\n",
      "Rinal Q-Table Values\n",
      "Left Down Right Up\n",
      "[[2.02018405e-02 3.39046245e-03 4.73898193e-01 1.41017915e-02]\n",
      " [3.80057664e-04 0.00000000e+00 1.08733364e-03 2.35461322e-01]\n",
      " [8.44365551e-03 0.00000000e+00 1.34809262e-02 1.34944162e-01]\n",
      " [2.03357378e-03 0.00000000e+00 6.52621345e-04 1.21010068e-01]\n",
      " [3.55155882e-01 8.31913102e-06 1.74510845e-03 1.56604549e-03]\n",
      " [0.00000000e+00 0.00000000e+00 0.00000000e+00 0.00000000e+00]\n",
      " [4.37157552e-04 4.08900743e-05 9.14356944e-03 9.77044741e-05]\n",
      " [0.00000000e+00 0.00000000e+00 0.00000000e+00 0.00000000e+00]\n",
      " [0.00000000e+00 3.45796393e-03 2.76883926e-03 3.37168283e-01]\n",
      " [0.00000000e+00 3.50821560e-01 4.66944503e-04 0.00000000e+00]\n",
      " [1.11378670e-01 8.58737639e-05 2.20546684e-05 5.68561780e-05]\n",
      " [0.00000000e+00 0.00000000e+00 0.00000000e+00 0.00000000e+00]\n",
      " [0.00000000e+00 0.00000000e+00 0.00000000e+00 0.00000000e+00]\n",
      " [0.00000000e+00 0.00000000e+00 6.74816296e-01 0.00000000e+00]\n",
      " [0.00000000e+00 0.00000000e+00 0.00000000e+00 4.47788278e-01]\n",
      " [0.00000000e+00 0.00000000e+00 0.00000000e+00 0.00000000e+00]]\n"
     ]
    },
    {
     "data": {
      "image/png": "[encoded data removed]",
      "text/plain": [
       "<Figure size 432x288 with 1 Axes>"
      ]
     },
     "metadata": {
      "needs_background": "light"
     },
     "output_type": "display_data"
    }
   ],
   "source": [
    "print(\"Success rate: \" +str(sum(rList)/num_episodes))\n",
    "print(\"Rinal Q-Table Values\")\n",
    "print(\"Left Down Right Up\")\n",
    "print(Q)\n",
    "plt.bar(range(len(rList)),rList,color='blue')\n",
    "plt.show()"
   ]
  },
  {
   "cell_type": "code",
   "execution_count": null,
   "metadata": {},
   "outputs": [],
   "source": []
  }
 ],
 "metadata": {
  "kernelspec": {
   "display_name": "Python 3",
   "language": "python",
   "name": "python3"
  },
  "language_info": {
   "codemirror_mode": {
    "name": "ipython",
    "version": 3
   },
   "file_extension": ".py",
   "mimetype": "text/x-python",
   "name": "python",
   "nbconvert_exporter": "python",
   "pygments_lexer": "ipython3",
   "version": "3.6.7"
  }
 },
 "nbformat": 4,
 "nbformat_minor": 2
}
